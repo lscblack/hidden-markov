{
 "cells": [
  {
   "cell_type": "markdown",
   "id": "91c24ea4",
   "metadata": {},
   "source": [
    "## Import Dependencies"
   ]
  },
  {
   "cell_type": "code",
   "execution_count": 16,
   "id": "ed9e6553",
   "metadata": {},
   "outputs": [],
   "source": [
    "import numpy as np\n",
    "import pandas as pd\n",
    "import matplotlib.pyplot as plt\n",
    "import seaborn as sns\n",
    "from scipy.fft import fft\n",
    "from scipy.signal import find_peaks\n",
    "from sklearn.preprocessing import StandardScaler\n",
    "from hmmlearn import hmm\n",
    "from sklearn.metrics import confusion_matrix, classification_report\n",
    "import glob,os\n"
   ]
  },
  {
   "cell_type": "markdown",
   "id": "164f9a9d",
   "metadata": {},
   "source": [
    "## Load & Merge Accelerometer + Gyroscope Using Timestamp"
   ]
  },
  {
   "cell_type": "code",
   "execution_count": 17,
   "id": "265e05a3",
   "metadata": {},
   "outputs": [
    {
     "name": "stdout",
     "output_type": "stream",
     "text": [
      "Total samples: 0\n"
     ]
    },
    {
     "data": {
      "text/html": [
       "<div>\n",
       "<style scoped>\n",
       "    .dataframe tbody tr th:only-of-type {\n",
       "        vertical-align: middle;\n",
       "    }\n",
       "\n",
       "    .dataframe tbody tr th {\n",
       "        vertical-align: top;\n",
       "    }\n",
       "\n",
       "    .dataframe thead th {\n",
       "        text-align: right;\n",
       "    }\n",
       "</style>\n",
       "<table border=\"1\" class=\"dataframe\">\n",
       "  <thead>\n",
       "    <tr style=\"text-align: right;\">\n",
       "      <th></th>\n",
       "    </tr>\n",
       "  </thead>\n",
       "  <tbody>\n",
       "  </tbody>\n",
       "</table>\n",
       "</div>"
      ],
      "text/plain": [
       "Empty DataFrame\n",
       "Columns: []\n",
       "Index: []"
      ]
     },
     "execution_count": 17,
     "metadata": {},
     "output_type": "execute_result"
    }
   ],
   "source": [
    "import os\n",
    "import pandas as pd\n",
    "import glob\n",
    "\n",
    "BASE_PATH = \"/dataset\"  \n",
    "\n",
    "def load_activity_data(activity_name):\n",
    "    activity_path = os.path.join(BASE_PATH, activity_name)\n",
    "    session_folders = glob.glob(os.path.join(activity_path, \"*\"))\n",
    "\n",
    "    all_data = []\n",
    "\n",
    "    for folder in session_folders:\n",
    "        accel_path = os.path.join(folder, \"Accelerometer.csv\")\n",
    "        accel_uncalib_path = os.path.join(folder, \"AccelerometerUncalibrated.csv\")\n",
    "\n",
    "        # Prefer calibrated file, fallback if missing\n",
    "        if os.path.exists(accel_path):\n",
    "            df = pd.read_csv(accel_path)\n",
    "        elif os.path.exists(accel_uncalib_path):\n",
    "            df = pd.read_csv(accel_uncalib_path)\n",
    "        else:\n",
    "            print(\"No accelerometer file found in:\", folder)\n",
    "            continue\n",
    "        \n",
    "        df['activity'] = activity_name\n",
    "        all_data.append(df)\n",
    "\n",
    "    if len(all_data) == 0:\n",
    "        return pd.DataFrame()\n",
    "\n",
    "    return pd.concat(all_data, ignore_index=True)\n",
    "\n",
    "# Load ALL activities\n",
    "df_still = load_activity_data(\"no Movement\")\n",
    "df_stand = load_activity_data(\"standing\")\n",
    "df_walk  = load_activity_data(\"walking\")\n",
    "df_jump  = load_activity_data(\"jumping\")\n",
    "\n",
    "# Final combined DataFrame\n",
    "df = pd.concat([df_still, df_stand, df_walk, df_jump], ignore_index=True)\n",
    "print(\"Total samples:\", len(df))\n",
    "df.head()\n"
   ]
  },
  {
   "cell_type": "markdown",
   "id": "8b84bc8b",
   "metadata": {},
   "source": [
    "### Read All Activity Folders Automatically"
   ]
  },
  {
   "cell_type": "code",
   "execution_count": 18,
   "id": "894a7774",
   "metadata": {},
   "outputs": [
    {
     "ename": "TypeError",
     "evalue": "load_activity_data() takes 1 positional argument but 2 were given",
     "output_type": "error",
     "traceback": [
      "\u001b[0;31m---------------------------------------------------------------------------\u001b[0m",
      "\u001b[0;31mTypeError\u001b[0m                                 Traceback (most recent call last)",
      "Cell \u001b[0;32mIn[18], line 12\u001b[0m\n\u001b[1;32m     10\u001b[0m \u001b[38;5;28;01mfor\u001b[39;00m label, folder \u001b[38;5;129;01min\u001b[39;00m activity_folders\u001b[38;5;241m.\u001b[39mitems():\n\u001b[1;32m     11\u001b[0m     files \u001b[38;5;241m=\u001b[39m glob\u001b[38;5;241m.\u001b[39mglob(folder)\n\u001b[0;32m---> 12\u001b[0m     df_tmp \u001b[38;5;241m=\u001b[39m \u001b[43mload_activity_data\u001b[49m\u001b[43m(\u001b[49m\u001b[43mfolder\u001b[49m\u001b[43m,\u001b[49m\u001b[43m \u001b[49m\u001b[43mlabel\u001b[49m\u001b[43m)\u001b[49m\n\u001b[1;32m     13\u001b[0m     data\u001b[38;5;241m.\u001b[39mappend(df_tmp)\n\u001b[1;32m     15\u001b[0m df \u001b[38;5;241m=\u001b[39m pd\u001b[38;5;241m.\u001b[39mconcat(data, ignore_index\u001b[38;5;241m=\u001b[39m\u001b[38;5;28;01mTrue\u001b[39;00m)\n",
      "\u001b[0;31mTypeError\u001b[0m: load_activity_data() takes 1 positional argument but 2 were given"
     ]
    }
   ],
   "source": [
    "data = []\n",
    "\n",
    "activity_folders = {\n",
    "    \"jumping\": \"jumping\",\n",
    "    \"walking\": \"walking\",\n",
    "    \"standing\": \"standing\",\n",
    "    \"no Movement\": \"no Movement\"\n",
    "}\n",
    "\n",
    "for label, folder in activity_folders.items():\n",
    "    files = glob.glob(folder)\n",
    "    df_tmp = load_activity_data(folder, label)\n",
    "    data.append(df_tmp)\n",
    "\n",
    "df = pd.concat(data, ignore_index=True)\n",
    "df = df.dropna()\n",
    "df.head()\n"
   ]
  },
  {
   "cell_type": "code",
   "execution_count": null,
   "id": "bc5a54a0",
   "metadata": {},
   "outputs": [],
   "source": []
  }
 ],
 "metadata": {
  "kernelspec": {
   "display_name": "ml-gpu",
   "language": "python",
   "name": "python3"
  },
  "language_info": {
   "codemirror_mode": {
    "name": "ipython",
    "version": 3
   },
   "file_extension": ".py",
   "mimetype": "text/x-python",
   "name": "python",
   "nbconvert_exporter": "python",
   "pygments_lexer": "ipython3",
   "version": "3.10.18"
  }
 },
 "nbformat": 4,
 "nbformat_minor": 5
}
